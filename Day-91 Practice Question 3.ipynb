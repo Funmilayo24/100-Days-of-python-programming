{
 "cells": [
  {
   "cell_type": "markdown",
   "id": "0ceb7a2e-ac5f-43c1-b695-4d19d43dfffd",
   "metadata": {},
   "source": [
    "### Day 91 of Python Programming"
   ]
  },
  {
   "cell_type": "markdown",
   "id": "5fba8787-2726-499b-8527-38142bbe4cee",
   "metadata": {},
   "source": [
    "### Practice Question 3"
   ]
  },
  {
   "cell_type": "markdown",
   "id": "221ce821-cb82-48a0-ad20-4a9304a81da0",
   "metadata": {},
   "source": [
    "## 1. Write a program to count how many numbers between 1 and 1000 are divisible by both 7 and 11."
   ]
  },
  {
   "cell_type": "code",
   "execution_count": 1,
   "id": "d04a69b1-fffc-40a7-a68a-81fa60eef14e",
   "metadata": {},
   "outputs": [
    {
     "name": "stdout",
     "output_type": "stream",
     "text": [
      "Count of numbers between 1 and 1000 divisible by both 7 and 11: 12\n"
     ]
    }
   ],
   "source": [
    "# Initialize the count\n",
    "count = 0\n",
    "\n",
    "# Iterate through numbers from 1 to 1000\n",
    "for number in range(1, 1001):\n",
    "    if number % 7 == 0 and number % 11 == 0:\n",
    "        count += 1\n",
    "\n",
    "print(\"Count of numbers between 1 and 1000 divisible by both 7 and 11:\", count)"
   ]
  },
  {
   "cell_type": "markdown",
   "id": "4ba5dd54-6b50-4e09-b744-ef11be2dbca9",
   "metadata": {},
   "source": [
    "## 2. Write a program to merge two dictionaries. If a key exists in both, sum their values.\n",
    "Example: {1: 10, 2: 20} and {2: 30, 3: 40} Output: {1: 10, 2: 50, 3: 40}"
   ]
  },
  {
   "cell_type": "code",
   "execution_count": 2,
   "id": "2f10c1f1-9e65-4817-948b-a64fca182fce",
   "metadata": {},
   "outputs": [
    {
     "name": "stdout",
     "output_type": "stream",
     "text": [
      "Merged dictionary: {1: 10, 2: 50, 3: 40}\n"
     ]
    }
   ],
   "source": [
    "# Example dictionaries\n",
    "dict1 = {1: 10, 2: 20}\n",
    "dict2 = {2: 30, 3: 40}\n",
    "\n",
    "# Create a copy of the first dictionary\n",
    "merged_dict = dict1.copy()\n",
    "\n",
    "# Iterate through the second dictionary\n",
    "for key, value in dict2.items():\n",
    "    # If the key exists in the merged dictionary, sum the values\n",
    "    if key in merged_dict:\n",
    "        merged_dict[key] += value\n",
    "    else:\n",
    "        # Otherwise, add the key-value pair to the merged dictionary\n",
    "        merged_dict[key] = value\n",
    "\n",
    "\n",
    "print(\"Merged dictionary:\", merged_dict)"
   ]
  },
  {
   "cell_type": "markdown",
   "id": "9f1a43ab-f22e-4ed9-94c4-122b63f603bc",
   "metadata": {},
   "source": [
    "## 3. Create a dictionary where the keys are numbers from 1 to 5, and the values are the squares of the keys.\n",
    "Output: {1: 1, 2: 4, 3: 9, 4: 16, 5: 25}"
   ]
  },
  {
   "cell_type": "code",
   "execution_count": 3,
   "id": "91369614-25dd-4d8b-96f0-f88a42b4f812",
   "metadata": {},
   "outputs": [
    {
     "name": "stdout",
     "output_type": "stream",
     "text": [
      "Using for loop: {1: 1, 2: 4, 3: 9, 4: 16, 5: 25}\n"
     ]
    }
   ],
   "source": [
    "squares_dict_loop = {}\n",
    "for number in range(1,6):\n",
    "    squares_dict_loop[number] = number ** 2 \n",
    "print(\"Using for loop:\", squares_dict_loop)"
   ]
  },
  {
   "cell_type": "code",
   "execution_count": 4,
   "id": "fded3175-9ec1-49fb-bdcd-ce14f9200252",
   "metadata": {},
   "outputs": [
    {
     "name": "stdout",
     "output_type": "stream",
     "text": [
      "{1: 1, 2: 4, 3: 9, 4: 16, 5: 25}\n"
     ]
    }
   ],
   "source": [
    "squares = {num: num **2 for num in range(1,6)}\n",
    "print(squares)"
   ]
  },
  {
   "cell_type": "code",
   "execution_count": null,
   "id": "e4b2bd99-70dd-47d7-8ebf-b1765dd6316f",
   "metadata": {},
   "outputs": [],
   "source": []
  }
 ],
 "metadata": {
  "kernelspec": {
   "display_name": "Python 3 (ipykernel)",
   "language": "python",
   "name": "python3"
  },
  "language_info": {
   "codemirror_mode": {
    "name": "ipython",
    "version": 3
   },
   "file_extension": ".py",
   "mimetype": "text/x-python",
   "name": "python",
   "nbconvert_exporter": "python",
   "pygments_lexer": "ipython3",
   "version": "3.12.7"
  }
 },
 "nbformat": 4,
 "nbformat_minor": 5
}
