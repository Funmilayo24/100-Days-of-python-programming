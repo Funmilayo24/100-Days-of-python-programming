{
 "cells": [
  {
   "cell_type": "markdown",
   "id": "5308da98-09c0-4a78-bff5-2deee478ca99",
   "metadata": {},
   "source": [
    "### Day 92 of Python Programming"
   ]
  },
  {
   "cell_type": "markdown",
   "id": "648c3299-cb9a-4962-ae54-4d77a1a225cb",
   "metadata": {},
   "source": [
    "### 1 Write a function to flatten a nested list into a single list."
   ]
  },
  {
   "cell_type": "code",
   "execution_count": null,
   "id": "6f2d1410-a8a3-427a-8165-66b8fd19f95d",
   "metadata": {},
   "outputs": [],
   "source": [
    "nested = [1, [2, 3], [4, [5, 6]], 7]\n",
    "flattened = [1, 2, 3, 4, 5, 6, 7]\n"
   ]
  },
  {
   "cell_type": "code",
   "execution_count": 3,
   "id": "f206a301-3f56-4210-a938-da63261f483e",
   "metadata": {},
   "outputs": [
    {
     "name": "stdout",
     "output_type": "stream",
     "text": [
      "Flattened list: [1, 2, 3, 4, 5, 6, 7]\n"
     ]
    }
   ],
   "source": [
    "def flatten_list(nested_list):\n",
    "    flat_list = []\n",
    "    for item in nested_list:\n",
    "        if isinstance(item, list):\n",
    "            flat_list.extend(flatten_list(item))\n",
    "        else:\n",
    "            flat_list.append(item)\n",
    "\n",
    "    return flat_list\n",
    "\n",
    "# Example usage\n",
    "nested = [1, [2, 3], [4, [5, 6]], 7]\n",
    "print(f\"Flattened list: {flatten_list(nested)}\")"
   ]
  },
  {
   "cell_type": "markdown",
   "id": "0646615d-781a-4860-af5b-160c5adb18f7",
   "metadata": {},
   "source": [
    "### 2. Write a function to count the number of vowels (a, e, i, o, u) in a given string, case-insensitively."
   ]
  },
  {
   "cell_type": "code",
   "execution_count": 4,
   "id": "aa1bebcb-1322-4a6e-b632-6b2136056df0",
   "metadata": {},
   "outputs": [
    {
     "name": "stdout",
     "output_type": "stream",
     "text": [
      "Number of vowels in 'Python is fun, Python is powerful': 8\n"
     ]
    }
   ],
   "source": [
    "def count_vowels(s):\n",
    "    vowels = \"aeiou\" \n",
    "    \n",
    "    return sum(1 for char in s.lower() if char in vowels)\n",
    "\n",
    "string = \"Python is fun, Python is powerful\"\n",
    "print(f\"Number of vowels in '{string}': {count_vowels(string)}\")"
   ]
  },
  {
   "cell_type": "markdown",
   "id": "19d683ac-79f6-4980-8f59-9e9be0e2314d",
   "metadata": {},
   "source": [
    "### 3 Create a function count_word_frequency(text, word) that takes a string and a word then counts how many times the word appears in the string. Call it with the sentence \"Python is fun, Python is powerful\" and the word \"Python\"."
   ]
  },
  {
   "cell_type": "code",
   "execution_count": 5,
   "id": "fad15e0c-b2c5-4a69-bef6-964077858c82",
   "metadata": {},
   "outputs": [
    {
     "name": "stdout",
     "output_type": "stream",
     "text": [
      "The word 'Python' appears 2 times in the sentence.\n"
     ]
    }
   ],
   "source": [
    "def count_word_frequency(text, word):\n",
    "    words = text.lower().split()\n",
    "    word = word.lower()\n",
    "    return words.count(word)\n",
    "\n",
    "sentence = \"Python is fun, Python is powerful\"\n",
    "target_word = \"Python\"\n",
    "\n",
    "count = count_word_frequency(sentence, target_word)\n",
    "print(f\"The word '{target_word}' appears {count} times in the sentence.\")"
   ]
  },
  {
   "cell_type": "code",
   "execution_count": null,
   "id": "0859ec16-9dd7-4e69-b4bd-06df468ba737",
   "metadata": {},
   "outputs": [],
   "source": []
  }
 ],
 "metadata": {
  "kernelspec": {
   "display_name": "Python 3 (ipykernel)",
   "language": "python",
   "name": "python3"
  },
  "language_info": {
   "codemirror_mode": {
    "name": "ipython",
    "version": 3
   },
   "file_extension": ".py",
   "mimetype": "text/x-python",
   "name": "python",
   "nbconvert_exporter": "python",
   "pygments_lexer": "ipython3",
   "version": "3.12.7"
  }
 },
 "nbformat": 4,
 "nbformat_minor": 5
}
