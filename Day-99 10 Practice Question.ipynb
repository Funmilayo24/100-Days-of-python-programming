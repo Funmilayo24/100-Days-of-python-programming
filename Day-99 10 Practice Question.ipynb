{
 "cells": [
  {
   "cell_type": "markdown",
   "id": "aa5fbea8-935b-4169-bb34-02adeb52ec09",
   "metadata": {},
   "source": [
    "### Day 99 of Python Programming"
   ]
  },
  {
   "cell_type": "markdown",
   "id": "acc5f69f-6378-4365-9e58-93af9bf7323a",
   "metadata": {},
   "source": [
    "## 1. Check for Anagram\n",
    "✅ Write a function that checks if two words are anagrams of each other."
   ]
  },
  {
   "cell_type": "code",
   "execution_count": 1,
   "id": "36df70b8-aec2-4f96-9e16-9d4d17293018",
   "metadata": {},
   "outputs": [
    {
     "name": "stdout",
     "output_type": "stream",
     "text": [
      "True\n"
     ]
    }
   ],
   "source": [
    "def is_anagram(str1, str2):\n",
    "    return sorted(str1) == sorted(str2)\n",
    "\n",
    "print(is_anagram(\"listen\", \"silent\"))  \n"
   ]
  },
  {
   "cell_type": "markdown",
   "id": "b521b6a8-75b2-4ea5-bfe3-e2bcc06768df",
   "metadata": {},
   "source": [
    "## 2. Find the Second Largest Number in a List\n",
    "✅ Write a function that returns the second largest number in a list.\n",
    "\n"
   ]
  },
  {
   "cell_type": "code",
   "execution_count": 3,
   "id": "6c98ecf4-0f8d-4de4-a4ec-a1969b364f63",
   "metadata": {},
   "outputs": [
    {
     "name": "stdout",
     "output_type": "stream",
     "text": [
      "45\n"
     ]
    }
   ],
   "source": [
    "def second_largest(lst):\n",
    "    unique_lst = list(set(lst))  # Remove duplicates\n",
    "    unique_lst.sort(reverse=True)\n",
    "    return unique_lst[1] if len(unique_lst) > 1 else None\n",
    "\n",
    "print(second_largest([10, 20, 4, 45, 99, 99]))\n"
   ]
  },
  {
   "cell_type": "markdown",
   "id": "980314b2-fa19-4212-8d4e-660882682e88",
   "metadata": {},
   "source": [
    "## 3. Find the Most Frequent Element in a List\n",
    "✅ Write a function that finds the most frequently occurring element in a list."
   ]
  },
  {
   "cell_type": "code",
   "execution_count": 5,
   "id": "52cca668-4fcd-4b01-9846-5dc9adfa475c",
   "metadata": {},
   "outputs": [
    {
     "name": "stdout",
     "output_type": "stream",
     "text": [
      "1\n"
     ]
    }
   ],
   "source": [
    "from collections import Counter\n",
    "\n",
    "def most_frequent(lst):\n",
    "    count = Counter(lst)\n",
    "    return count.most_common(1)[0][0]\n",
    "\n",
    "print(most_frequent([1, 3, 2, 1, 4, 1, 3, 2]))  \n"
   ]
  },
  {
   "cell_type": "markdown",
   "id": "88c32c8e-221e-4693-9989-fd89a07eaaf8",
   "metadata": {},
   "source": [
    "## 4. Remove Duplicates from a List\n",
    "✅ Write a function that removes duplicate elements from a list while maintaining order."
   ]
  },
  {
   "cell_type": "code",
   "execution_count": 6,
   "id": "61ddf1b7-ba2d-4c03-a97c-04b186256a31",
   "metadata": {},
   "outputs": [
    {
     "name": "stdout",
     "output_type": "stream",
     "text": [
      "[1, 2, 3, 4, 5]\n"
     ]
    }
   ],
   "source": [
    "def remove_duplicates(lst):\n",
    "    unique_list = []\n",
    "    for item in lst:\n",
    "        if item not in unique_list:\n",
    "            unique_list.append(item)\n",
    "    return unique_list\n",
    "\n",
    "print(remove_duplicates([1, 2, 2, 3, 4, 4, 5])) \n"
   ]
  },
  {
   "cell_type": "markdown",
   "id": "1a150d38-7677-4265-8349-9531d92caacb",
   "metadata": {},
   "source": [
    "## 5. Check if a String is a Pangram\n",
    "✅ Write a function to check if a given string is a pangram (contains every letter of the alphabet at least once)."
   ]
  },
  {
   "cell_type": "code",
   "execution_count": 7,
   "id": "cd1a55f4-749d-414f-8c79-7c4c8c347d04",
   "metadata": {},
   "outputs": [
    {
     "name": "stdout",
     "output_type": "stream",
     "text": [
      "True\n",
      "False\n"
     ]
    }
   ],
   "source": [
    "import string\n",
    "\n",
    "def is_pangram(s):\n",
    "    return set(string.ascii_lowercase).issubset(set(s.lower()))\n",
    "\n",
    "# Example\n",
    "print(is_pangram(\"The quick brown fox jumps over the lazy dog\"))\n",
    "print(is_pangram(\"Hello World\"))  \n"
   ]
  },
  {
   "cell_type": "markdown",
   "id": "49906e63-f5c3-4245-9bf2-269996d2beb2",
   "metadata": {},
   "source": [
    "## 6. Implement a Basic Calculator\n",
    "✅ Write a function that takes two numbers and an operator (+, -, *, /) and returns the result."
   ]
  },
  {
   "cell_type": "code",
   "execution_count": 8,
   "id": "0108bf17-1ea6-48c0-b046-76408c32340c",
   "metadata": {},
   "outputs": [
    {
     "name": "stdout",
     "output_type": "stream",
     "text": [
      "15\n",
      "2.0\n",
      "Cannot divide by zero\n"
     ]
    }
   ],
   "source": [
    "def calculator(a, b, operator):\n",
    "    if operator == \"+\":\n",
    "        return a + b\n",
    "    elif operator == \"-\":\n",
    "        return a - b\n",
    "    elif operator == \"*\":\n",
    "        return a * b\n",
    "    elif operator == \"/\":\n",
    "        return a / b if b != 0 else \"Cannot divide by zero\"\n",
    "    else:\n",
    "        return \"Invalid operator\"\n",
    "\n",
    "# Example\n",
    "print(calculator(10, 5, \"+\"))  \n",
    "print(calculator(10, 5, \"/\"))  \n",
    "print(calculator(10, 0, \"/\"))  \n"
   ]
  },
  {
   "cell_type": "markdown",
   "id": "167a6a3c-7ed7-4e16-aa1c-176e6bf92741",
   "metadata": {},
   "source": [
    "## 7. Sorting a List of Tuples by Custom Key\n",
    "Given a list of tuples representing students and their scores\n",
    "Write a function to sort the list:\n",
    "\n",
    "First, by score in descending order.\n",
    "If two students have the same score, sort them alphabetically."
   ]
  },
  {
   "cell_type": "code",
   "execution_count": 9,
   "id": "2b1074df-8f92-495c-aaa4-4a08d2848d79",
   "metadata": {},
   "outputs": [
    {
     "name": "stdout",
     "output_type": "stream",
     "text": [
      "[('Bob', 95), ('Alice', 85), ('David', 85), ('Charlie', 75)]\n"
     ]
    }
   ],
   "source": [
    "students = [(\"Alice\", 85), (\"Bob\", 95), (\"Charlie\", 75), (\"David\", 85)]\n",
    "\n",
    "# Sorting by score (descending) and then by name (ascending)\n",
    "sorted_students = sorted(students, key=lambda x: (-x[1], x[0]))\n",
    "\n",
    "print(sorted_students)\n"
   ]
  },
  {
   "cell_type": "markdown",
   "id": "6b9cede5-0512-4591-9294-7742a892818b",
   "metadata": {},
   "source": [
    "#### Explanation:\n",
    "lambda x: (-x[1], x[0])\n",
    "\n",
    "-x[1] → Sorts the scores in descending order (higher scores first).\n",
    "\n",
    "x[0] → Sorts names in ascending order (A to Z) if scores are the same."
   ]
  },
  {
   "cell_type": "markdown",
   "id": "3b02e9d0-29bd-45ef-998b-1ca3d917e7ca",
   "metadata": {},
   "source": [
    "## 8. String Manipulation and Regex\n",
    "Write a function that takes a string and removes all special characters (!@#$%^&*()_+={}[]|\\:;'\"<>,.?/~), keeping only alphanumeric characters and spaces. "
   ]
  },
  {
   "cell_type": "code",
   "execution_count": 10,
   "id": "0bd516b3-8b29-4ce1-a4dd-53b1a6901a9d",
   "metadata": {},
   "outputs": [
    {
     "name": "stdout",
     "output_type": "stream",
     "text": [
      "Hello World Python39 is awesome\n"
     ]
    }
   ],
   "source": [
    "import re\n",
    "\n",
    "def remove_special_characters(text):\n",
    "    # Regex pattern to keep only alphanumeric characters and spaces\n",
    "    cleaned_text = re.sub(r'[^a-zA-Z0-9 ]', '', text)\n",
    "    return cleaned_text\n",
    "\n",
    "# Example usage\n",
    "input_text = \"Hello, World! Python@3.9 is #awesome.\"\n",
    "output_text = remove_special_characters(input_text)\n",
    "print(output_text)\n"
   ]
  },
  {
   "cell_type": "markdown",
   "id": "e962f144-467e-4254-9682-71d722d70166",
   "metadata": {},
   "source": [
    "### Explanation:\n",
    "re.sub(r'[^a-zA-Z0-9 ]', '', text)\n",
    "\n",
    "[^a-zA-Z0-9 ] → Matches anything except letters (a-zA-Z), numbers (0-9), and spaces.\n",
    "\n",
    "'' → Replaces matched characters with an empty string (removes them).\n"
   ]
  },
  {
   "cell_type": "markdown",
   "id": "0e9fab1b-ef39-4332-abc9-4d7da223010c",
   "metadata": {},
   "source": [
    "## 9. Find the Longest Word in a Sentence\n",
    "Write a function that takes a sentence and returns the longest word in it. If multiple words have the same length, return the first one."
   ]
  },
  {
   "cell_type": "code",
   "execution_count": 12,
   "id": "64d73892-ebf9-4a6a-a6c5-83c8f026f746",
   "metadata": {},
   "outputs": [
    {
     "name": "stdout",
     "output_type": "stream",
     "text": [
      "quick\n"
     ]
    }
   ],
   "source": [
    "def longest_word(sentence):\n",
    "    words = sentence.split()\n",
    "    return max(words, key=len)\n",
    "\n",
    "# Example\n",
    "print(longest_word(\"The quick brown fox jumps over the lazy dog\"))  \n"
   ]
  },
  {
   "cell_type": "markdown",
   "id": "309daa1c-0554-4128-8c7c-226539a839bf",
   "metadata": {},
   "source": [
    "## 10 Find the Intersection of Two Lists"
   ]
  },
  {
   "cell_type": "code",
   "execution_count": 14,
   "id": "342e0ad6-4747-4092-9e0a-2ae6fdec3d3f",
   "metadata": {},
   "outputs": [
    {
     "name": "stdout",
     "output_type": "stream",
     "text": [
      "[3, 4]\n"
     ]
    }
   ],
   "source": [
    "def list_intersection(lst1, lst2):\n",
    "    return list(set(lst1) & set(lst2))\n",
    "\n",
    "# Example\n",
    "print(list_intersection([1, 2, 3, 4], [3, 4, 5, 6])) "
   ]
  },
  {
   "cell_type": "code",
   "execution_count": null,
   "id": "f213f8bb-e7f6-4f90-95ce-9d5354f6763d",
   "metadata": {},
   "outputs": [],
   "source": []
  }
 ],
 "metadata": {
  "kernelspec": {
   "display_name": "Python 3 (ipykernel)",
   "language": "python",
   "name": "python3"
  },
  "language_info": {
   "codemirror_mode": {
    "name": "ipython",
    "version": 3
   },
   "file_extension": ".py",
   "mimetype": "text/x-python",
   "name": "python",
   "nbconvert_exporter": "python",
   "pygments_lexer": "ipython3",
   "version": "3.12.7"
  }
 },
 "nbformat": 4,
 "nbformat_minor": 5
}
